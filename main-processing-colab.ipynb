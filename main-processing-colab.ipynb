{
 "cells": [
  {
   "cell_type": "code",
   "execution_count": null,
   "metadata": {},
   "outputs": [],
   "source": [
    "import os\n",
    "os.system('git clone https://github.com/guanyuhoujeff/video_processing.git')\n",
    "from video_processing.tool import VideoProcessesor\n",
    "\n",
    "video_processesor = VideoProcessesor()"
   ]
  },
  {
   "cell_type": "markdown",
   "metadata": {},
   "source": [
    "上傳影片"
   ]
  },
  {
   "cell_type": "code",
   "execution_count": null,
   "metadata": {},
   "outputs": [],
   "source": [
    "video_processesor.uploadFile()"
   ]
  },
  {
   "cell_type": "markdown",
   "metadata": {},
   "source": [
    "開始轉換照片"
   ]
  },
  {
   "cell_type": "code",
   "execution_count": null,
   "metadata": {},
   "outputs": [],
   "source": [
    "#@參數設定\n",
    "副檔名 = 'png' #@param [\"png\", \"jpg\"]\n",
    "截圖頻率 = 5 #@param {type:\"integer\"}\n",
    "\n",
    "video_processesor.convertImage(截圖頻率, 副檔名)"
   ]
  },
  {
   "cell_type": "markdown",
   "metadata": {},
   "source": [
    "確認照片沒問題就開始下載"
   ]
  },
  {
   "cell_type": "code",
   "execution_count": null,
   "metadata": {},
   "outputs": [],
   "source": [
    "video_processesor.downloadZip()"
   ]
  }
 ],
 "metadata": {
  "kernelspec": {
   "display_name": "Python 3",
   "language": "python",
   "name": "python3"
  },
  "language_info": {
   "codemirror_mode": {
    "name": "ipython",
    "version": 3
   },
   "file_extension": ".py",
   "mimetype": "text/x-python",
   "name": "python",
   "nbconvert_exporter": "python",
   "pygments_lexer": "ipython3",
   "version": "3.7.4"
  }
 },
 "nbformat": 4,
 "nbformat_minor": 4
}
