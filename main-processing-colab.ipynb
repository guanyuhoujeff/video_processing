{
 "cells": [
  {
   "cell_type": "code",
   "execution_count": null,
   "metadata": {},
   "outputs": [],
   "source": [
    "from google.colab import files\n",
    "from tool import video2Image, zipImage\n",
    "\n",
    "\n",
    "uploaded = files.upload()\n",
    "for fn in uploaded.keys():\n",
    "  print('已上傳 \"{name}\" '.format(name=fn))"
   ]
  },
  {
   "cell_type": "markdown",
   "metadata": {},
   "source": [
    "參數設定"
   ]
  },
  {
   "cell_type": "code",
   "execution_count": null,
   "metadata": {},
   "outputs": [],
   "source": [
    "#@參數設定\n",
    "副檔名 = 'png' #@param [\"png\", \"jpg\"]\n",
    "截圖頻率 = 5 #@param {type:\"integer\"}"
   ]
  },
  {
   "cell_type": "markdown",
   "metadata": {},
   "source": [
    "開始轉換照片"
   ]
  },
  {
   "cell_type": "code",
   "execution_count": null,
   "metadata": {},
   "outputs": [],
   "source": [
    "for file_name in uploaded.keys():\n",
    "    video2Image(file_name, 截圖頻率, sub_file_name = 副檔名)\n",
    "    print('已處理 \"{name}\" '.format(name=fn))"
   ]
  },
  {
   "cell_type": "markdown",
   "metadata": {},
   "source": [
    "確認照片沒問題就開始下載"
   ]
  },
  {
   "cell_type": "code",
   "execution_count": null,
   "metadata": {},
   "outputs": [],
   "source": [
    "for file_name in uploaded.keys():\n",
    "    print(f'準備下載{file_name}')\n",
    "    zipname = zipImage(file_name, 副檔名)\n",
    "    files.download(zipname)"
   ]
  }
 ],
 "metadata": {
  "kernelspec": {
   "display_name": "Python 3",
   "language": "python",
   "name": "python3"
  },
  "language_info": {
   "codemirror_mode": {
    "name": "ipython",
    "version": 3
   },
   "file_extension": ".py",
   "mimetype": "text/x-python",
   "name": "python",
   "nbconvert_exporter": "python",
   "pygments_lexer": "ipython3",
   "version": "3.7.4"
  }
 },
 "nbformat": 4,
 "nbformat_minor": 4
}
