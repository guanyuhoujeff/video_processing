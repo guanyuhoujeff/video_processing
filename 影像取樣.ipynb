{
 "cells": [
  {
   "cell_type": "code",
   "execution_count": 1,
   "metadata": {},
   "outputs": [],
   "source": [
    "import os\n",
    "import cv2"
   ]
  },
  {
   "cell_type": "code",
   "execution_count": 6,
   "metadata": {},
   "outputs": [],
   "source": [
    "video_name = '4桿上作業.mp4'\n",
    "folder_name = video_name.split('.')[0]\n",
    "output_path = '輸出-%s'%folder_name\n",
    "freq = 50"
   ]
  },
  {
   "cell_type": "code",
   "execution_count": 40,
   "metadata": {},
   "outputs": [],
   "source": [
    "def checkAndMkdirs(the_path):\n",
    "    if not os.path.isdir(os.path.join(the_path)):\n",
    "        os.makedirs(the_path)\n",
    "checkAndMkdirs(output_path)\n",
    "\n",
    "\n",
    "vap = cv2.VideoCapture(os.path.join(os.getcwd(), video_name))\n",
    "counter = 0\n",
    "frame_idx = 0\n",
    "successed, frame = vap.read()\n",
    "if successed:\n",
    "  cv2.imwrite(os.path.join(os.getcwd(), output_path, f'{folder_name}_frame{counter}.png'), frame)\n",
    "while successed:\n",
    "    successed, frame = vap.read()\n",
    "    counter +=1\n",
    "    if successed and (counter % freq ==0):\n",
    "        frame_idx +=1\n",
    "        cv2.imwrite(os.path.join(os.getcwd(), output_path, f'{folder_name}_frame{frame_idx}.png'), frame)\n",
    "vap.release()\n",
    "print('Done')"
   ]
  },
  {
   "cell_type": "code",
   "execution_count": null,
   "metadata": {},
   "outputs": [],
   "source": []
  }
 ],
 "metadata": {
  "kernelspec": {
   "display_name": "Python 3",
   "language": "python",
   "name": "python3"
  },
  "language_info": {
   "codemirror_mode": {
    "name": "ipython",
    "version": 3
   },
   "file_extension": ".py",
   "mimetype": "text/x-python",
   "name": "python",
   "nbconvert_exporter": "python",
   "pygments_lexer": "ipython3",
   "version": "3.7.4"
  }
 },
 "nbformat": 4,
 "nbformat_minor": 4
}
