{
 "cells": [
  {
   "cell_type": "code",
   "execution_count": null,
   "metadata": {},
   "outputs": [],
   "source": [
    "import os\n",
    "import cv2\n",
    "\n",
    "\n",
    "video_name = None\n",
    "fps = 50\n",
    "\n",
    "\n",
    "video_name = video_name if video_name is not None else [f for f in os.listdir() if '.mp4' in f][0]\n",
    "folder_name = video_name.split('.')[0]\n",
    "output_path = '輸出-%s'%folder_name\n",
    "\n",
    "\n",
    "def checkAndMkdirs(the_path):\n",
    "    if not os.path.isdir(os.path.join(the_path)):\n",
    "        os.makedirs(the_path)\n",
    "checkAndMkdirs(output_path)\n",
    "\n",
    "cmd = 'time ffmpeg -i %s -filter:v fps=%d/60 %s/%s_ffmpeg_%s0d.png'%(video_name, fps, output_path, folder_name, '%')\n",
    "\n",
    "print('請在下面區塊輸入：')\n",
    "print('!'+cmd)"
   ]
  },
  {
   "cell_type": "code",
   "execution_count": null,
   "metadata": {},
   "outputs": [],
   "source": []
  },
  {
   "cell_type": "code",
   "execution_count": null,
   "metadata": {},
   "outputs": [],
   "source": [
    "from zipfile import ZipFile\n",
    "from pathlib import Path\n",
    "from google.colab import files\n",
    "\n",
    "zipname = '%s.zip'%folder_name\n",
    "\n",
    "with ZipFile(zipname, 'w') as zipf:\n",
    "    for file in [f for f in  os.listdir(output_path) if \".png\" in f]:\n",
    "        zipf.write(os.path.join(output_path, file))\n",
    "\n",
    "files.download(zipname)"
   ]
  },
  {
   "cell_type": "code",
   "execution_count": null,
   "metadata": {},
   "outputs": [],
   "source": []
  }
 ],
 "metadata": {
  "kernelspec": {
   "display_name": "Python 3",
   "language": "python",
   "name": "python3"
  },
  "language_info": {
   "codemirror_mode": {
    "name": "ipython",
    "version": 3
   },
   "file_extension": ".py",
   "mimetype": "text/x-python",
   "name": "python",
   "nbconvert_exporter": "python",
   "pygments_lexer": "ipython3",
   "version": "3.7.4"
  }
 },
 "nbformat": 4,
 "nbformat_minor": 4
}
