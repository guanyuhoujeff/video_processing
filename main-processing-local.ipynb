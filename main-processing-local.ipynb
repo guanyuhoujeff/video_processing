{
 "cells": [
  {
   "cell_type": "code",
   "execution_count": null,
   "metadata": {},
   "outputs": [],
   "source": [
    "try:\n",
    "    from wind_utils import ContentManager, DisplayManager, getWindowWidth\n",
    "except ModuleNotFoundError:\n",
    "    import os\n",
    "    os.system('git clone https://github.com/guanyuhoujeff/fbc_demo.git')\n",
    "    from fbc_demo.wind_utils import ContentManager, DisplayManager, getWindowWidth"
   ]
  },
  {
   "cell_type": "code",
   "execution_count": 1,
   "metadata": {},
   "outputs": [],
   "source": [
    "import os\n",
    "import cv2"
   ]
  },
  {
   "cell_type": "code",
   "execution_count": null,
   "metadata": {},
   "outputs": [],
   "source": [
    "video_name = 'final.mp4'\n",
    "folder_name = video_name.split('.')[0]\n",
    "output_path = '輸出-%s'%folder_name\n",
    "freq = 50\n",
    "\n",
    "def checkAndMkdirs(the_path):\n",
    "    if not os.path.isdir(os.path.join(the_path)):\n",
    "        os.makedirs(the_path)\n",
    "checkAndMkdirs(output_path)\n",
    "\n",
    "cmd = 'time ffmpeg -i %s -filter:v fps=fps=20/60 %s/%s_ffmpeg_%s0d.png'%(video_name, output_path, folder_name, '%')\n",
    "\n",
    "os.system(cmd) "
   ]
  },
  {
   "cell_type": "code",
   "execution_count": null,
   "metadata": {},
   "outputs": [],
   "source": []
  },
  {
   "cell_type": "code",
   "execution_count": 6,
   "metadata": {},
   "outputs": [],
   "source": [
    "video_name = '4桿上作業.mp4'\n",
    "folder_name = video_name.split('.')[0]\n",
    "output_path = '輸出-%s'%folder_name\n",
    "freq = 50"
   ]
  },
  {
   "cell_type": "code",
   "execution_count": 40,
   "metadata": {},
   "outputs": [],
   "source": [
    "def checkAndMkdirs(the_path):\n",
    "    if not os.path.isdir(os.path.join(the_path)):\n",
    "        os.makedirs(the_path)\n",
    "checkAndMkdirs(output_path)\n",
    "\n",
    "\n",
    "vap = cv2.VideoCapture(os.path.join(os.getcwd(), video_name))\n",
    "counter = 0\n",
    "frame_idx = 0\n",
    "successed, frame = vap.read()\n",
    "if successed:\n",
    "  cv2.imwrite(os.path.join(os.getcwd(), output_path, f'{folder_name}_frame{counter}.png'), frame)\n",
    "while successed:\n",
    "    successed, frame = vap.read()\n",
    "    counter +=1\n",
    "    if successed and (counter % freq ==0):\n",
    "        frame_idx +=1\n",
    "        cv2.imwrite(os.path.join(os.getcwd(), output_path, f'{folder_name}_frame{frame_idx}.png'), frame)\n",
    "vap.release()\n",
    "print('Done')"
   ]
  },
  {
   "cell_type": "code",
   "execution_count": null,
   "metadata": {},
   "outputs": [],
   "source": [
    "from zipfile import ZipFile\n",
    "from pathlib import Path\n",
    "zipname = '%s.zip'%folder_name\n",
    "\n",
    "with ZipFile(zipname, 'w') as zipf:\n",
    "  for file in [f for f in  os.listdir(output_path) if \".png\" in f]:\n",
    "    zipf.write(os.path.join(output_path, file))\n"
   ]
  }
 ],
 "metadata": {
  "kernelspec": {
   "display_name": "Python 3",
   "language": "python",
   "name": "python3"
  },
  "language_info": {
   "codemirror_mode": {
    "name": "ipython",
    "version": 3
   },
   "file_extension": ".py",
   "mimetype": "text/x-python",
   "name": "python",
   "nbconvert_exporter": "python",
   "pygments_lexer": "ipython3",
   "version": "3.7.4"
  }
 },
 "nbformat": 4,
 "nbformat_minor": 4
}
